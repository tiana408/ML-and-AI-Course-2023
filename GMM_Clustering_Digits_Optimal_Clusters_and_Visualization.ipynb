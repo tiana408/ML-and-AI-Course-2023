{
  "nbformat": 4,
  "nbformat_minor": 0,
  "metadata": {
    "colab": {
      "provenance": []
    },
    "kernelspec": {
      "name": "python3",
      "display_name": "Python 3"
    },
    "language_info": {
      "name": "python"
    }
  },
  "cells": [
    {
      "cell_type": "code",
      "execution_count": null,
      "metadata": {
        "colab": {
          "base_uri": "https://localhost:8080/",
          "height": 706
        },
        "id": "26mJ87tCTI49",
        "outputId": "296f059d-5602-4a98-d26d-1a28ecf0e044"
      },
      "outputs": [
        {
          "output_type": "stream",
          "name": "stdout",
          "text": [
            "Data Shape: (1797, 64)\n",
            "Label Shape: (1797,)\n"
          ]
        },
        {
          "output_type": "display_data",
          "data": {
            "text/plain": [
              "<Figure size 640x480 with 0 Axes>"
            ]
          },
          "metadata": {}
        },
        {
          "output_type": "display_data",
          "data": {
            "text/plain": [
              "<Figure size 480x480 with 1 Axes>"
            ],
            "image/png": "[encoded data removed]"
          },
          "metadata": {}
        },
        {
          "output_type": "stream",
          "name": "stdout",
          "text": [
            "Label of the first digit: 0\n",
            "Optimal number of clusters: 2\n"
          ]
        },
        {
          "output_type": "display_data",
          "data": {
            "text/plain": [
              "<Figure size 400x200 with 2 Axes>"
            ],
            "image/png": "[encoded data removed]"
          },
          "metadata": {}
        },
        {
          "output_type": "stream",
          "name": "stdout",
          "text": [
            "Silhouette Score for optimal clusters: 0.15650428381697654\n"
          ]
        }
      ],
      "source": [
        "# Import necessary libraries\n",
        "from sklearn.datasets import load_digits\n",
        "import matplotlib.pyplot as plt\n",
        "from sklearn.preprocessing import StandardScaler\n",
        "from sklearn.mixture import GaussianMixture\n",
        "from sklearn.metrics import silhouette_score\n",
        "import numpy as np\n",
        "\n",
        "# Load the dataset\n",
        "digits = load_digits()\n",
        "\n",
        "# Print the shape of the dataset\n",
        "print(\"Data Shape:\", digits.data.shape)\n",
        "print(\"Label Shape:\", digits.target.shape)\n",
        "\n",
        "# Display the first digit\n",
        "plt.gray()\n",
        "plt.matshow(digits.images[0])\n",
        "plt.show()\n",
        "\n",
        "# Print the label of the first digit\n",
        "print(\"Label of the first digit:\", digits.target[0])\n",
        "\n",
        "# Step 1: Preprocessing - Normalization\n",
        "scaler = StandardScaler()\n",
        "data_scaled = scaler.fit_transform(digits.data)\n",
        "\n",
        "# Step 2: Find optimal number of clusters for GMM\n",
        "# Trying different cluster counts (from 2 to 20)\n",
        "n_clusters = np.arange(2, 21)\n",
        "silhouette_scores = []\n",
        "\n",
        "for k in n_clusters:\n",
        "    gmm = GaussianMixture(n_components=k, random_state=0)\n",
        "    gmm.fit(data_scaled)\n",
        "    labels = gmm.predict(data_scaled)\n",
        "    silhouette_scores.append(silhouette_score(data_scaled, labels))\n",
        "\n",
        "# Find the optimal number of clusters based on silhouette score\n",
        "optimal_clusters = n_clusters[np.argmax(silhouette_scores)]\n",
        "print(f\"Optimal number of clusters: {optimal_clusters}\")\n",
        "\n",
        "# Step 3: Apply GMM with optimal number of clusters\n",
        "gmm = GaussianMixture(n_components=optimal_clusters, random_state=0)\n",
        "gmm.fit(data_scaled)\n",
        "labels = gmm.predict(data_scaled)\n",
        "\n",
        "# Step 4: Visualization of the clustering results\n",
        "# We will visualize the centroids of clusters in the form of digit images\n",
        "# Since centroids are in the scaled space, we need to inverse transform them\n",
        "centroids = scaler.inverse_transform(gmm.means_)\n",
        "\n",
        "fig, ax = plt.subplots(1, optimal_clusters, figsize=(optimal_clusters * 2, 2))\n",
        "for i in range(optimal_clusters):\n",
        "    ax[i].imshow(centroids[i].reshape(8, 8), cmap='gray')\n",
        "    ax[i].axis('off')\n",
        "\n",
        "plt.show()\n",
        "\n",
        "# Step 5: Evaluate the model performance\n",
        "print(\"Silhouette Score for optimal clusters:\", silhouette_scores[np.argmax(silhouette_scores)])\n"
      ]
    }
  ]
}